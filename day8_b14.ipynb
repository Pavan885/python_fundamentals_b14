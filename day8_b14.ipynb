{
 "cells": [
  {
   "cell_type": "code",
   "execution_count": 3,
   "metadata": {},
   "outputs": [
    {
     "name": "stdout",
     "output_type": "stream",
     "text": [
      "{'color': 'green', 'points': 5}\n"
     ]
    }
   ],
   "source": [
    "alien_0 = {'color':'green','points':5}\n",
    "print(alien_0)"
   ]
  },
  {
   "cell_type": "code",
   "execution_count": 4,
   "metadata": {},
   "outputs": [
    {
     "data": {
      "text/plain": [
       "dict"
      ]
     },
     "execution_count": 4,
     "metadata": {},
     "output_type": "execute_result"
    }
   ],
   "source": [
    "type(alien_0)"
   ]
  },
  {
   "cell_type": "code",
   "execution_count": 11,
   "metadata": {},
   "outputs": [
    {
     "name": "stdout",
     "output_type": "stream",
     "text": [
      "green\n"
     ]
    }
   ],
   "source": [
    "alien_0 = {'color': 'green','points':5}\n",
    "print(alien_0['color'])"
   ]
  },
  {
   "cell_type": "code",
   "execution_count": 20,
   "metadata": {},
   "outputs": [
    {
     "name": "stdout",
     "output_type": "stream",
     "text": [
      "you just earned 5 points\n"
     ]
    }
   ],
   "source": [
    " #Enhancements\n",
    " new_points = alien_0['points']\n",
    " print(f\"you just earned {new_points} points\")\n",
    "    "
   ]
  },
  {
   "cell_type": "code",
   "execution_count": 24,
   "metadata": {},
   "outputs": [
    {
     "name": "stdout",
     "output_type": "stream",
     "text": [
      "{'color': 'green', 'points': 5}\n",
      "{'color': 'green', 'points': 5, 'x-posistion': 0, 'y-posistion': 25}\n"
     ]
    }
   ],
   "source": [
    "#how to add new key value pairs to a dict:\n",
    "alien_0 = {'color':'green','points':5}\n",
    "print(alien_0)\n",
    "alien_0['x-posistion'] = 0\n",
    "alien_0['y-posistion'] = 25\n",
    "print(alien_0)"
   ]
  },
  {
   "cell_type": "code",
   "execution_count": 33,
   "metadata": {},
   "outputs": [
    {
     "name": "stdout",
     "output_type": "stream",
     "text": [
      "The alien is in green\n",
      "The alien has been now modified to yellow\n"
     ]
    }
   ],
   "source": [
    "#modifying the color:\n",
    "alien_0 = {'color':'green'}\n",
    "print(f\"The alien is in {alien_0['color']}\")\n",
    "alien_0['color'] = 'yellow'\n",
    "print(f\"The alien has been now modified to {alien_0['color']}\")"
   ]
  },
  {
   "cell_type": "code",
   "execution_count": 37,
   "metadata": {},
   "outputs": [
    {
     "name": "stdout",
     "output_type": "stream",
     "text": [
      "{'color': 'yellow', 'points': 5}\n",
      "{'color': 'yellow'}\n"
     ]
    }
   ],
   "source": [
    "#Removing key-value pairs:\n",
    "alien_0 = {'color':'yellow','points':5}\n",
    "print(alien_0)\n",
    "del alien_0['points']\n",
    "print(alien_0)"
   ]
  },
  {
   "cell_type": "code",
   "execution_count": 41,
   "metadata": {},
   "outputs": [
    {
     "name": "stdout",
     "output_type": "stream",
     "text": [
      "{'pavan': 'python', 'phani': 'java', 'yagna': 'c++', 'sohit': 'swift'}\n"
     ]
    }
   ],
   "source": [
    "#dict of similar objects:\n",
    "fav_languages = {\n",
    "    'pavan' : 'python',\n",
    "    'phani' : 'java',\n",
    "    'yagna' : 'c++',\n",
    "    'sohit' : 'swift'\n",
    "}\n",
    "print(fav_languages)"
   ]
  },
  {
   "cell_type": "code",
   "execution_count": 49,
   "metadata": {},
   "outputs": [
    {
     "name": "stdout",
     "output_type": "stream",
     "text": [
      "Pavan's favourite language is Python\n"
     ]
    }
   ],
   "source": [
    "language = fav_languages['pavan'].title()\n",
    "print(f\"Pavan's favourite language is {language}\")"
   ]
  },
  {
   "cell_type": "code",
   "execution_count": null,
   "metadata": {},
   "outputs": [],
   "source": []
  }
 ],
 "metadata": {
  "kernelspec": {
   "display_name": "Python 3",
   "language": "python",
   "name": "python3"
  },
  "language_info": {
   "codemirror_mode": {
    "name": "ipython",
    "version": 3
   },
   "file_extension": ".py",
   "mimetype": "text/x-python",
   "name": "python",
   "nbconvert_exporter": "python",
   "pygments_lexer": "ipython3",
   "version": "3.7.6"
  }
 },
 "nbformat": 4,
 "nbformat_minor": 4
}
